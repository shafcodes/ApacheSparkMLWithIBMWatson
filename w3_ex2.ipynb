{
    "nbformat_minor": 1, 
    "cells": [
        {
            "source": "Welcome to exercise twp of week three of \u201cApache Spark for Scalable Machine Learning on BigData\u201d. In this exercise we\u2019ll work on clustering.\n\nLet\u2019s create our DataFrame again:\n", 
            "cell_type": "markdown", 
            "metadata": {
                "collapsed": true
            }
        }, 
        {
            "execution_count": 15, 
            "cell_type": "code", 
            "metadata": {}, 
            "outputs": [
                {
                    "output_type": "stream", 
                    "name": "stdout", 
                    "text": "--2019-10-21 21:20:55--  https://github.com/IBM/coursera/raw/master/hmp.parquet\nResolving github.com (github.com)... 140.82.114.3\nConnecting to github.com (github.com)|140.82.114.3|:443... connected.\nHTTP request sent, awaiting response... 302 Found\nLocation: https://raw.githubusercontent.com/IBM/coursera/master/hmp.parquet [following]\n--2019-10-21 21:20:55--  https://raw.githubusercontent.com/IBM/coursera/master/hmp.parquet\nResolving raw.githubusercontent.com (raw.githubusercontent.com)... 151.101.48.133\nConnecting to raw.githubusercontent.com (raw.githubusercontent.com)|151.101.48.133|:443... connected.\nHTTP request sent, awaiting response... 200 OK\nLength: 932997 (911K) [application/octet-stream]\nSaving to: 'hmp.parquet'\n\n100%[======================================>] 932,997     --.-K/s   in 0.04s   \n\n2019-10-21 21:20:56 (23.0 MB/s) - 'hmp.parquet' saved [932997/932997]\n\n"
                }
            ], 
            "source": "# delete files from previous runs\n!rm -f hmp.parquet*\n\n# download the file containing the data in PARQUET format\n!wget https://github.com/IBM/coursera/raw/master/hmp.parquet\n    \n# create a dataframe out of it\ndf = spark.read.parquet('hmp.parquet')\n\n# register a corresponding query table\ndf.createOrReplaceTempView('df')"
        }, 
        {
            "source": "Let\u2019s reuse our feature engineering pipeline.", 
            "cell_type": "markdown", 
            "metadata": {}
        }, 
        {
            "execution_count": 17, 
            "cell_type": "code", 
            "metadata": {}, 
            "outputs": [
                {
                    "output_type": "stream", 
                    "name": "stdout", 
                    "text": "+---+---+---+--------------------+-----------+----------+--------------+----------------+--------------------+\n|  x|  y|  z|              source|      class|classIndex|   categoryVec|        features|       features_norm|\n+---+---+---+--------------------+-----------+----------+--------------+----------------+--------------------+\n| 22| 49| 35|Accelerometer-201...|Brush_teeth|       6.0|(13,[6],[1.0])|[22.0,49.0,35.0]|[0.20754716981132...|\n| 22| 49| 35|Accelerometer-201...|Brush_teeth|       6.0|(13,[6],[1.0])|[22.0,49.0,35.0]|[0.20754716981132...|\n| 22| 52| 35|Accelerometer-201...|Brush_teeth|       6.0|(13,[6],[1.0])|[22.0,52.0,35.0]|[0.20183486238532...|\n| 22| 52| 35|Accelerometer-201...|Brush_teeth|       6.0|(13,[6],[1.0])|[22.0,52.0,35.0]|[0.20183486238532...|\n| 21| 52| 34|Accelerometer-201...|Brush_teeth|       6.0|(13,[6],[1.0])|[21.0,52.0,34.0]|[0.19626168224299...|\n| 22| 51| 34|Accelerometer-201...|Brush_teeth|       6.0|(13,[6],[1.0])|[22.0,51.0,34.0]|[0.20560747663551...|\n| 20| 50| 35|Accelerometer-201...|Brush_teeth|       6.0|(13,[6],[1.0])|[20.0,50.0,35.0]|[0.19047619047619...|\n| 22| 52| 34|Accelerometer-201...|Brush_teeth|       6.0|(13,[6],[1.0])|[22.0,52.0,34.0]|[0.20370370370370...|\n| 22| 50| 34|Accelerometer-201...|Brush_teeth|       6.0|(13,[6],[1.0])|[22.0,50.0,34.0]|[0.20754716981132...|\n| 22| 51| 35|Accelerometer-201...|Brush_teeth|       6.0|(13,[6],[1.0])|[22.0,51.0,35.0]|[0.20370370370370...|\n| 21| 51| 33|Accelerometer-201...|Brush_teeth|       6.0|(13,[6],[1.0])|[21.0,51.0,33.0]|[0.2,0.4857142857...|\n| 20| 50| 34|Accelerometer-201...|Brush_teeth|       6.0|(13,[6],[1.0])|[20.0,50.0,34.0]|[0.19230769230769...|\n| 21| 49| 33|Accelerometer-201...|Brush_teeth|       6.0|(13,[6],[1.0])|[21.0,49.0,33.0]|[0.20388349514563...|\n| 21| 49| 33|Accelerometer-201...|Brush_teeth|       6.0|(13,[6],[1.0])|[21.0,49.0,33.0]|[0.20388349514563...|\n| 20| 51| 35|Accelerometer-201...|Brush_teeth|       6.0|(13,[6],[1.0])|[20.0,51.0,35.0]|[0.18867924528301...|\n| 18| 49| 34|Accelerometer-201...|Brush_teeth|       6.0|(13,[6],[1.0])|[18.0,49.0,34.0]|[0.17821782178217...|\n| 19| 48| 34|Accelerometer-201...|Brush_teeth|       6.0|(13,[6],[1.0])|[19.0,48.0,34.0]|[0.18811881188118...|\n| 16| 53| 34|Accelerometer-201...|Brush_teeth|       6.0|(13,[6],[1.0])|[16.0,53.0,34.0]|[0.15533980582524...|\n| 18| 52| 35|Accelerometer-201...|Brush_teeth|       6.0|(13,[6],[1.0])|[18.0,52.0,35.0]|[0.17142857142857...|\n| 18| 51| 32|Accelerometer-201...|Brush_teeth|       6.0|(13,[6],[1.0])|[18.0,51.0,32.0]|[0.17821782178217...|\n+---+---+---+--------------------+-----------+----------+--------------+----------------+--------------------+\nonly showing top 20 rows\n\n"
                }
            ], 
            "source": "from pyspark.ml.feature import OneHotEncoder, StringIndexer, VectorAssembler, Normalizer\nfrom pyspark.ml.linalg import Vectors\nfrom pyspark.ml import Pipeline\n\nindexer = StringIndexer(inputCol=\"class\", outputCol=\"classIndex\")\nencoder = OneHotEncoder(inputCol=\"classIndex\", outputCol=\"categoryVec\")\nvectorAssembler = VectorAssembler(inputCols=[\"x\",\"y\",\"z\"],\n                                  outputCol=\"features\")\nnormalizer = Normalizer(inputCol=\"features\", outputCol=\"features_norm\", p=1.0)\n\npipeline = Pipeline(stages=[indexer, encoder, vectorAssembler, normalizer])\nmodel = pipeline.fit(df)\nprediction = model.transform(df)\nprediction.show()"
        }, 
        {
            "source": "Now let\u2019s create a new pipeline for kmeans.", 
            "cell_type": "markdown", 
            "metadata": {}
        }, 
        {
            "execution_count": 18, 
            "cell_type": "code", 
            "metadata": {}, 
            "outputs": [
                {
                    "output_type": "stream", 
                    "name": "stdout", 
                    "text": "Silhouette with squared euclidean distance = 0.41244594513295846\n"
                }
            ], 
            "source": "from pyspark.ml.clustering import KMeans\nfrom pyspark.ml.evaluation import ClusteringEvaluator\n\nkmeans = KMeans(featuresCol=\"features\").setK(14).setSeed(1)\npipeline = Pipeline(stages=[vectorAssembler, kmeans])\nmodel = pipeline.fit(df)\npredictions = model.transform(df)\n\nevaluator = ClusteringEvaluator()\n\nsilhouette = evaluator.evaluate(predictions)\nprint(\"Silhouette with squared euclidean distance = \" + str(silhouette))"
        }, 
        {
            "source": "We have 14 different movement patterns in the dataset, so setting K of KMeans to 14 is a good idea. But please experiment with different values for K, do you find a sweet spot? The closer Silhouette gets to 1, the better.\n\nhttps://en.wikipedia.org/wiki/Silhouette_(clustering)\n", 
            "cell_type": "markdown", 
            "metadata": {}
        }, 
        {
            "execution_count": 9, 
            "cell_type": "code", 
            "metadata": {}, 
            "outputs": [
                {
                    "output_type": "stream", 
                    "name": "stdout", 
                    "text": "Silhouette with squared euclidean distance = 5 ---- 0.5937447997439024\nSilhouette with squared euclidean distance = 6 ---- 0.592463658820136\nSilhouette with squared euclidean distance = 7 ---- 0.5484627422401509\nSilhouette with squared euclidean distance = 8 ---- 0.46686489256383346\nSilhouette with squared euclidean distance = 9 ---- 0.48034893889849645\nSilhouette with squared euclidean distance = 10 ---- 0.47370428136987536\nSilhouette with squared euclidean distance = 11 ---- 0.4819049717562352\nSilhouette with squared euclidean distance = 12 ---- 0.40964155503229643\nSilhouette with squared euclidean distance = 13 ---- 0.4153293521373778\nSilhouette with squared euclidean distance = 14 ---- 0.41244594513295846\nSilhouette with squared euclidean distance = 15 ---- 0.41771495579360896\nSilhouette with squared euclidean distance = 16 ---- 0.39594610810727193\nSilhouette with squared euclidean distance = 17 ---- 0.40512075095291467\nSilhouette with squared euclidean distance = 18 ---- 0.4058090075137995\nSilhouette with squared euclidean distance = 19 ---- 0.3794290531790819\nSilhouette with squared euclidean distance = 20 ---- 0.3445366343500456\nSilhouette with squared euclidean distance = 21 ---- 0.37382141208025593\nSilhouette with squared euclidean distance = 22 ---- 0.3755327082866356\nSilhouette with squared euclidean distance = 23 ---- 0.39582196537765696\nSilhouette with squared euclidean distance = 24 ---- 0.37043032167020984\nSilhouette with squared euclidean distance = 25 ---- 0.3648804382298117\n"
                }
            ], 
            "source": "# please change the pipeline the check performance for different K, feel free to use a loop\nKList = [5,6,7,8,9,10,11,12,13,14,15,16,17,18,19,20, 21, 22, 23, 24, 25]\n\nfor i in KList:\n    kmeans = KMeans(featuresCol=\"features\").setK(i).setSeed(1)\n    pipeline = Pipeline(stages=[vectorAssembler, kmeans])\n    model = pipeline.fit(df)\n    predictions = model.transform(df)\n\n    evaluator = ClusteringEvaluator()\n\n    silhouette = evaluator.evaluate(predictions)\n    print(\"Silhouette with squared euclidean distance = \" + str(i) +\" ---- \" + str(silhouette))"
        }, 
        {
            "source": "Now please extend the pipeline to work on the normalized features. You need to tell KMeans to use the normalized feature column and change the pipeline in order to contain the normalizer stage as well.", 
            "cell_type": "markdown", 
            "metadata": {}
        }, 
        {
            "execution_count": 10, 
            "cell_type": "code", 
            "metadata": {}, 
            "outputs": [
                {
                    "output_type": "stream", 
                    "name": "stdout", 
                    "text": "Silhouette with squared euclidean distance = 5 ---- 0.5378473434364454\nSilhouette with squared euclidean distance = 6 ---- 0.3616039650566081\nSilhouette with squared euclidean distance = 7 ---- 0.3388334984297795\nSilhouette with squared euclidean distance = 8 ---- 0.35346131260617686\nSilhouette with squared euclidean distance = 9 ---- 0.3320686157150071\nSilhouette with squared euclidean distance = 10 ---- 0.31921981409325373\nSilhouette with squared euclidean distance = 11 ---- 0.3166261086889984\nSilhouette with squared euclidean distance = 12 ---- 0.2524553751769574\nSilhouette with squared euclidean distance = 13 ---- 0.2811747980314105\nSilhouette with squared euclidean distance = 14 ---- 0.2668998965895519\nSilhouette with squared euclidean distance = 15 ---- 0.20781470594423448\nSilhouette with squared euclidean distance = 16 ---- 0.19826724173804225\nSilhouette with squared euclidean distance = 17 ---- 0.21748769321069447\nSilhouette with squared euclidean distance = 18 ---- 0.19219712752248147\nSilhouette with squared euclidean distance = 19 ---- 0.19310669444512274\nSilhouette with squared euclidean distance = 20 ---- 0.19920179914233183\nSilhouette with squared euclidean distance = 21 ---- 0.19844467364283358\nSilhouette with squared euclidean distance = 22 ---- 0.18107229273662062\nSilhouette with squared euclidean distance = 23 ---- 0.16948706183503418\nSilhouette with squared euclidean distance = 24 ---- 0.15808537221342453\nSilhouette with squared euclidean distance = 25 ---- 0.15386849406267167\n"
                }
            ], 
            "source": "KList = [5,6,7,8,9,10,11,12,13,14,15,16,17,18,19,20, 21, 22, 23, 24, 25]\nfor i in KList:\n    kmeans = KMeans(featuresCol=\"features_norm\").setK(i).setSeed(1)\n    pipeline = Pipeline(stages=[vectorAssembler, normalizer, kmeans])\n    model = pipeline.fit(df)\n\n    predictions = model.transform(df)\n\n    evaluator = ClusteringEvaluator()\n\n    silhouette = evaluator.evaluate(predictions)\n    print(\"Silhouette with squared euclidean distance = \" + str(i) +\" ---- \" + str(silhouette))"
        }, 
        {
            "source": "Sometimes, inflating the dataset helps, here we multiply x by 10, let\u2019s see if the performance inceases.", 
            "cell_type": "markdown", 
            "metadata": {}
        }, 
        {
            "execution_count": 11, 
            "cell_type": "code", 
            "metadata": {}, 
            "outputs": [], 
            "source": "from pyspark.sql.functions import col\ndf_denormalized = df.select([col('*'),(col('x')*10)]).drop('x').withColumnRenamed('(x * 10)','x')"
        }, 
        {
            "execution_count": 12, 
            "cell_type": "code", 
            "metadata": {}, 
            "outputs": [
                {
                    "output_type": "stream", 
                    "name": "stdout", 
                    "text": "Silhouette with squared euclidean distance = 0.5709023393004293\n"
                }
            ], 
            "source": "kmeans = KMeans(featuresCol=\"features\").setK(14).setSeed(1)\npipeline = Pipeline(stages=[vectorAssembler, kmeans])\nmodel = pipeline.fit(df_denormalized)\npredictions = model.transform(df_denormalized)\n\nevaluator = ClusteringEvaluator()\n\nsilhouette = evaluator.evaluate(predictions)\nprint(\"Silhouette with squared euclidean distance = \" + str(silhouette))"
        }, 
        {
            "source": "Apache SparkML can be used to try many different algorithms and parametrizations using the same pipeline. Please change the code below to use GaussianMixture over KMeans. Please use the following link for your reference.\n\nhttps://spark.apache.org/docs/latest/ml-clustering.html#gaussian-mixture-model-gmm\n", 
            "cell_type": "markdown", 
            "metadata": {}
        }, 
        {
            "execution_count": 19, 
            "cell_type": "code", 
            "metadata": {}, 
            "outputs": [
                {
                    "output_type": "stream", 
                    "name": "stdout", 
                    "text": "Silhouette with squared euclidean distance = 0.15906267433367427\n"
                }
            ], 
            "source": "from pyspark.ml.clustering import GaussianMixture\n\ngmm = GaussianMixture(featuresCol = \"features\").setK(14).setSeed(1)\npipeline = Pipeline(stages=[vectorAssembler, gmm])\n\nmodel = pipeline.fit(df)\n\npredictions = model.transform(df)\n\nevaluator = ClusteringEvaluator()\n\nsilhouette = evaluator.evaluate(predictions)\nprint(\"Silhouette with squared euclidean distance = \" + str(silhouette))"
        }, 
        {
            "execution_count": null, 
            "cell_type": "code", 
            "metadata": {}, 
            "outputs": [], 
            "source": ""
        }
    ], 
    "metadata": {
        "kernelspec": {
            "display_name": "Python 3.6 with Spark", 
            "name": "python36", 
            "language": "python3"
        }, 
        "language_info": {
            "mimetype": "text/x-python", 
            "nbconvert_exporter": "python", 
            "version": "3.6.8", 
            "name": "python", 
            "file_extension": ".py", 
            "pygments_lexer": "ipython3", 
            "codemirror_mode": {
                "version": 3, 
                "name": "ipython"
            }
        }
    }, 
    "nbformat": 4
}